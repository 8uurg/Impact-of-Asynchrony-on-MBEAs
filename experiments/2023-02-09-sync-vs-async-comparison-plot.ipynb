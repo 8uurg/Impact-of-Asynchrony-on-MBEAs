{
 "cells": [
  {
   "cell_type": "markdown",
   "metadata": {},
   "source": [
    " DAEDALUS – Distributed and Automated Evolutionary Deep Architecture Learning with Unprecedented Scalability\n",
    "\n",
    "This research code was developed as part of the research programme Open Technology Programme with project number 18373, which was financed by the Dutch Research Council (NWO), Elekta, and Ortec Logiqcare.\n",
    "\n",
    "Project leaders: Peter A.N. Bosman, Tanja Alderliesten\n",
    "Researchers: Alex Chebykin, Arthur Guijt, Vangelis Kostoulas\n",
    "Main code developer: Arthur Guijt"
   ]
  },
  {
   "cell_type": "code",
   "execution_count": 1,
   "metadata": {},
   "outputs": [],
   "source": [
    "import pandas as pd\n",
    "\n",
    "import rpy2\n",
    "%load_ext rpy2.ipython"
   ]
  },
  {
   "cell_type": "code",
   "execution_count": 2,
   "metadata": {},
   "outputs": [
    {
     "name": "stderr",
     "output_type": "stream",
     "text": [
      "System has not been booted with systemd as init system (PID 1). Can't operate.\n",
      "Failed to connect to bus: Host is down\n"
     ]
    },
    {
     "name": "stdout",
     "output_type": "stream",
     "text": [
      "── Attaching packages ─────────────────────────────────────── tidyverse 1.3.2 ──\n",
      "✔ ggplot2 3.4.0      ✔ purrr   1.0.1 \n",
      "✔ tibble  3.1.8      ✔ dplyr   1.0.10\n",
      "✔ tidyr   1.2.1      ✔ stringr 1.5.0 \n",
      "✔ readr   2.1.3      ✔ forcats 0.5.2 \n",
      "── Conflicts ────────────────────────────────────────── tidyverse_conflicts() ──\n",
      "✖ dplyr::filter() masks stats::filter()\n",
      "✖ dplyr::lag()    masks stats::lag()\n"
     ]
    }
   ],
   "source": [
    "%%R\n",
    "library(tidyverse)\n",
    "library(ggplot2)"
   ]
  },
  {
   "cell_type": "code",
   "execution_count": 3,
   "metadata": {},
   "outputs": [],
   "source": [
    "date_of_processing = \"2023-02-09\""
   ]
  },
  {
   "cell_type": "code",
   "execution_count": 4,
   "metadata": {},
   "outputs": [],
   "source": [
    "def process_trace(path, tag):\n",
    "    df = pd.read_json(path, lines=True).sort_values([\"t\", \"ord\", \"kind\"])\n",
    "    # Turn trace into processor assignments\n",
    "    procs = []\n",
    "    nprocs = 0\n",
    "    def get_proc():\n",
    "        nonlocal procs, nprocs\n",
    "        if len(procs) > 0:\n",
    "            return procs.pop()\n",
    "        else:\n",
    "            nprocs += 1\n",
    "            return nprocs - 1\n",
    "    ord_to_proc = {}\n",
    "    df[\"proc\"] = None\n",
    "    for (idx, l) in df.iterrows():\n",
    "        if l[\"kind\"] == \"new\":\n",
    "            p = get_proc()\n",
    "            df.loc[idx, \"proc\"] = p\n",
    "            ord_to_proc[l[\"ord\"]] = p\n",
    "        else:\n",
    "            p = ord_to_proc[l[\"ord\"]]\n",
    "            procs.append(p)\n",
    "    # Find spans\n",
    "    df = pd.merge(df.loc[df[\"kind\"] == \"new\", [\"ord\", \"t\", \"proc\"]], df.loc[df[\"kind\"] == \"performed\", [\"ord\", \"t\"]], on=[\"ord\"], suffixes=(\"_start\", \"_end\"))\n",
    "    df[\"tag\"] = tag\n",
    "    return df\n",
    "\n",
    "popsize = 8\n",
    "data = pd.concat([\n",
    "    process_trace(f\"./results/traced-run-example-a6f16f2/trap_bisect_2/{popsize}/events.jsonl\", \"synchronous\"),\n",
    "    process_trace(f\"./results/traced-run-example-a6f16f2/trap_bisect_3/{popsize}/events.jsonl\", \"asynchronous\")\n",
    "])"
   ]
  },
  {
   "cell_type": "code",
   "execution_count": 5,
   "metadata": {},
   "outputs": [
    {
     "data": {
      "text/html": [
       "<div>\n",
       "<style scoped>\n",
       "    .dataframe tbody tr th:only-of-type {\n",
       "        vertical-align: middle;\n",
       "    }\n",
       "\n",
       "    .dataframe tbody tr th {\n",
       "        vertical-align: top;\n",
       "    }\n",
       "\n",
       "    .dataframe thead th {\n",
       "        text-align: right;\n",
       "    }\n",
       "</style>\n",
       "<table border=\"1\" class=\"dataframe\">\n",
       "  <thead>\n",
       "    <tr style=\"text-align: right;\">\n",
       "      <th></th>\n",
       "      <th>ord</th>\n",
       "      <th>t_start</th>\n",
       "      <th>proc</th>\n",
       "      <th>t_end</th>\n",
       "      <th>tag</th>\n",
       "    </tr>\n",
       "  </thead>\n",
       "  <tbody>\n",
       "    <tr>\n",
       "      <th>0</th>\n",
       "      <td>0</td>\n",
       "      <td>0.00</td>\n",
       "      <td>0</td>\n",
       "      <td>42.58</td>\n",
       "      <td>synchronous</td>\n",
       "    </tr>\n",
       "    <tr>\n",
       "      <th>1</th>\n",
       "      <td>1</td>\n",
       "      <td>0.00</td>\n",
       "      <td>1</td>\n",
       "      <td>46.54</td>\n",
       "      <td>synchronous</td>\n",
       "    </tr>\n",
       "    <tr>\n",
       "      <th>2</th>\n",
       "      <td>2</td>\n",
       "      <td>0.00</td>\n",
       "      <td>2</td>\n",
       "      <td>52.48</td>\n",
       "      <td>synchronous</td>\n",
       "    </tr>\n",
       "    <tr>\n",
       "      <th>3</th>\n",
       "      <td>3</td>\n",
       "      <td>0.00</td>\n",
       "      <td>3</td>\n",
       "      <td>52.48</td>\n",
       "      <td>synchronous</td>\n",
       "    </tr>\n",
       "    <tr>\n",
       "      <th>4</th>\n",
       "      <td>4</td>\n",
       "      <td>0.00</td>\n",
       "      <td>4</td>\n",
       "      <td>52.48</td>\n",
       "      <td>synchronous</td>\n",
       "    </tr>\n",
       "    <tr>\n",
       "      <th>...</th>\n",
       "      <td>...</td>\n",
       "      <td>...</td>\n",
       "      <td>...</td>\n",
       "      <td>...</td>\n",
       "      <td>...</td>\n",
       "    </tr>\n",
       "    <tr>\n",
       "      <th>475</th>\n",
       "      <td>478</td>\n",
       "      <td>720.02</td>\n",
       "      <td>2</td>\n",
       "      <td>720.02</td>\n",
       "      <td>asynchronous</td>\n",
       "    </tr>\n",
       "    <tr>\n",
       "      <th>476</th>\n",
       "      <td>480</td>\n",
       "      <td>720.04</td>\n",
       "      <td>7</td>\n",
       "      <td>720.04</td>\n",
       "      <td>asynchronous</td>\n",
       "    </tr>\n",
       "    <tr>\n",
       "      <th>477</th>\n",
       "      <td>482</td>\n",
       "      <td>724.00</td>\n",
       "      <td>1</td>\n",
       "      <td>724.00</td>\n",
       "      <td>asynchronous</td>\n",
       "    </tr>\n",
       "    <tr>\n",
       "      <th>478</th>\n",
       "      <td>484</td>\n",
       "      <td>724.98</td>\n",
       "      <td>4</td>\n",
       "      <td>724.98</td>\n",
       "      <td>asynchronous</td>\n",
       "    </tr>\n",
       "    <tr>\n",
       "      <th>479</th>\n",
       "      <td>485</td>\n",
       "      <td>724.98</td>\n",
       "      <td>4</td>\n",
       "      <td>724.98</td>\n",
       "      <td>asynchronous</td>\n",
       "    </tr>\n",
       "  </tbody>\n",
       "</table>\n",
       "<p>616 rows × 5 columns</p>\n",
       "</div>"
      ],
      "text/plain": [
       "     ord  t_start proc   t_end           tag\n",
       "0      0     0.00    0   42.58   synchronous\n",
       "1      1     0.00    1   46.54   synchronous\n",
       "2      2     0.00    2   52.48   synchronous\n",
       "3      3     0.00    3   52.48   synchronous\n",
       "4      4     0.00    4   52.48   synchronous\n",
       "..   ...      ...  ...     ...           ...\n",
       "475  478   720.02    2  720.02  asynchronous\n",
       "476  480   720.04    7  720.04  asynchronous\n",
       "477  482   724.00    1  724.00  asynchronous\n",
       "478  484   724.98    4  724.98  asynchronous\n",
       "479  485   724.98    4  724.98  asynchronous\n",
       "\n",
       "[616 rows x 5 columns]"
      ]
     },
     "execution_count": 5,
     "metadata": {},
     "output_type": "execute_result"
    }
   ],
   "source": [
    "data"
   ]
  },
  {
   "cell_type": "code",
   "execution_count": 51,
   "metadata": {},
   "outputs": [
    {
     "name": "stdout",
     "output_type": "stream",
     "text": [
      "           tag ord t_start proc t_end t_end_max\n",
      "1 asynchronous   0       0    0 42.58    114.86\n",
      "2 asynchronous   1       0    1 46.54    114.86\n",
      "3 asynchronous   2       0    2 52.48    114.86\n",
      "4 asynchronous   3       0    3 52.48    114.86\n",
      "5 asynchronous   4       0    4 52.48    114.86\n",
      "6 asynchronous   5       0    5 34.66    114.86\n"
     ]
    }
   ],
   "source": [
    "%%R -i data\n",
    "t_ends <- data |> filter(`t_end` <= 130) |> group_by(`tag`) |> summarise(t_end_max = max(`t_end`))\n",
    "\n",
    "# forcibly align leftovers?\n",
    "# data_mod <- data <- data |> merge(t_ends, on=`tag`) |> head()\n",
    "data_mod <- data <- data |> merge(t_ends, on=`tag`) |> mutate(\n",
    "    t_end=ifelse(`t_start` < `t_end_max`, ifelse(`t_end` < `t_end_max`, `t_end`, `t_end_max`), `t_end`)\n",
    ") |> head()\n",
    "data_mod"
   ]
  },
  {
   "cell_type": "code",
   "execution_count": 59,
   "metadata": {},
   "outputs": [
    {
     "name": "stdout",
     "output_type": "stream",
     "text": [
      "Saving 4.86 x 2.78 in image\n",
      "Saving 4.86 x 2.78 in image\n"
     ]
    },
    {
     "data": {
      "image/png": "[encoded data removed]"
     },
     "metadata": {},
     "output_type": "display_data"
    }
   ],
   "source": [
    "%%R -i data -i date_of_processing -w 350 -h 200\n",
    "barheight = 1.0\n",
    "maxprocs = max(data$proc)\n",
    "\n",
    "plt0 <- data |>\n",
    "    mutate(\n",
    "        tag = factor(`tag`, levels=c('synchronous', 'asynchronous')),\n",
    "        ymin = `proc` - barheight / 2,\n",
    "        ymax = `proc` + barheight / 2\n",
    "    ) |> \n",
    "    ggplot(aes(xmin=`t_start`, xmax=`t_end`, ymin=`ymin`, ymax=`ymax`, fill=`tag`), color='black') +\n",
    "    geom_rect(aes(color=`tag`)) +\n",
    "    scale_fill_manual(values=c(\"synchronous\"=\"#f6a519\", \"asynchronous\"=\"#0e76bc\")) +\n",
    "    scale_color_manual(values=c(\"synchronous\"=\"#c48414\", \"asynchronous\"=\"#095487\")) +\n",
    "    coord_cartesian(xlim = c(0, 130)) +\n",
    "    scale_x_continuous(breaks=NULL, limits=c(0, 500), expand=c(0.0, 0.0)) +\n",
    "    scale_y_continuous(breaks=seq.int(0, maxprocs), expand=c((1-barheight)/maxprocs, (1-barheight)/maxprocs)) +\n",
    "    facet_grid(. ~ tag) +\n",
    "    guides(fill = NULL) +\n",
    "    theme_bw() +\n",
    "    theme(\n",
    "      legend.position = \"none\",\n",
    "      panel.spacing = unit(1, \"lines\"),\n",
    "      plot.background = element_rect(fill='transparent', color=NA),\n",
    "      strip.background = element_blank(),\n",
    "      strip.text.x = element_text(size = 11)) +\n",
    "    labs(x=\"\", y=\"processor ID\")\n",
    "\n",
    "fpath = paste(date_of_processing, \"-sync-vs-async.pdf\", sep=\"\")\n",
    "ggsave(fpath, device = cairo_pdf)\n",
    "fpath = paste(date_of_processing, \"-sync-vs-async.png\", sep=\"\")\n",
    "ggsave(fpath, type = \"cairo\")\n",
    "\n",
    "plt0"
   ]
  },
  {
   "cell_type": "code",
   "execution_count": 60,
   "metadata": {},
   "outputs": [
    {
     "name": "stdout",
     "output_type": "stream",
     "text": [
      "Saving 4.86 x 2.78 in image\n",
      "Saving 4.86 x 2.78 in image\n"
     ]
    },
    {
     "data": {
      "image/png": "[encoded data removed]"
     },
     "metadata": {},
     "output_type": "display_data"
    }
   ],
   "source": [
    "%%R -i data -i date_of_processing -w 350 -h 200\n",
    "barheight = 1.0\n",
    "maxprocs = max(data$proc)\n",
    "\n",
    "t_ends <- data |> filter(`t_end` <= 130) |> group_by(`tag`) |> summarise(t_end_max = max(`t_end`))\n",
    "\n",
    "# forcibly align leftovers.\n",
    "data_mod <- data <- data |> merge(t_ends, on=`tag`) |> mutate(\n",
    "    t_end=ifelse(`t_start` < `t_end_max`, ifelse(`t_end` < `t_end_max`, `t_end`, `t_end_max`), `t_end`)\n",
    ")\n",
    "\n",
    "plt1 <- data_mod |>\n",
    "    mutate(\n",
    "        tag = factor(`tag`, levels=c('synchronous', 'asynchronous')),\n",
    "        ymin = `proc` - barheight / 2,\n",
    "        ymax = `proc` + barheight / 2\n",
    "    ) |> \n",
    "    ggplot(aes(xmin=`t_start`, xmax=`t_end`, ymin=`ymin`, ymax=`ymax`, fill=`tag`), color='black') +\n",
    "    geom_rect(aes(color=`tag`)) +\n",
    "    geom_vline(data=t_ends, linetype=\"dashed\", aes(xintercept=`t_end_max`, color=`tag`)) +\n",
    "    scale_fill_manual(values=c(\"synchronous\"=\"#f6a519\", \"asynchronous\"=\"#0e76bc\")) +\n",
    "    scale_color_manual(values=c(\"synchronous\"=\"#c48414\", \"asynchronous\"=\"#095487\")) +\n",
    "    coord_cartesian(xlim = c(0, 130)) +\n",
    "    scale_x_continuous(breaks=NULL, limits=c(0, 130), expand=c(0.0, 0.0)) +\n",
    "    scale_y_continuous(breaks=seq.int(0, maxprocs), expand=c((1-barheight)/maxprocs, (1-barheight)/maxprocs)) +\n",
    "    facet_grid(. ~ tag) +\n",
    "    guides(fill = NULL) +\n",
    "    theme_bw() +\n",
    "    theme(\n",
    "      legend.position = \"none\",\n",
    "      panel.spacing = unit(1, \"lines\"),\n",
    "      plot.background = element_rect(fill='transparent', color=NA),\n",
    "      strip.background = element_blank(),\n",
    "      strip.text.x = element_text(size = 11)) +\n",
    "    labs(x=\"\", y=\"processor ID\")\n",
    "\n",
    "fpath = paste(date_of_processing, \"-sync-vs-async-mod.pdf\", sep=\"\")\n",
    "ggsave(fpath, device = cairo_pdf)\n",
    "fpath = paste(date_of_processing, \"-sync-vs-async-mod.png\", sep=\"\")\n",
    "ggsave(fpath, type = \"cairo\")\n",
    "\n",
    "plt1"
   ]
  },
  {
   "cell_type": "code",
   "execution_count": null,
   "metadata": {},
   "outputs": [],
   "source": []
  }
 ],
 "metadata": {
  "kernelspec": {
   "display_name": "base",
   "language": "python",
   "name": "python3"
  },
  "language_info": {
   "codemirror_mode": {
    "name": "ipython",
    "version": 3
   },
   "file_extension": ".py",
   "mimetype": "text/x-python",
   "name": "python",
   "nbconvert_exporter": "python",
   "pygments_lexer": "ipython3",
   "version": "3.10.8"
  },
  "orig_nbformat": 4,
  "vscode": {
   "interpreter": {
    "hash": "ed1ad093c251a0d057e5d3ce8d1418941b16634f4c1a298d15d5b79b838b1af0"
   }
  }
 },
 "nbformat": 4,
 "nbformat_minor": 2
}
